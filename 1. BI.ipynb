{
 "cells": [
  {
   "cell_type": "code",
   "execution_count": null,
   "id": "ab0a8fa0-c4be-428d-bfe1-f0eeddbef8ca",
   "metadata": {},
   "outputs": [],
   "source": []
  },
  {
   "cell_type": "markdown",
   "id": "e81c87ba-1331-499d-916d-3e33c6477d47",
   "metadata": {},
   "source": [
    "## Descriptive Statistics !!\n",
    "\n",
    "### Single Variable\n",
    "---------------------"
   ]
  },
  {
   "cell_type": "markdown",
   "id": "dd1bb590-385f-4b04-b1e8-978aa1505260",
   "metadata": {},
   "source": [
    "#### 1. Measure of central tendency : Capture central aspect of data\n",
    "\n",
    "    a. Arthematic Mean : The Mean is influenced to a greater extent by extreme observations\n",
    "    b. Median : Extreme observations doesn't  influence the Median \n",
    "       [ Look for skewness of the data by Plotting histogram chart ]\n",
    "       skew right : mean > median ( some extreme value on the right increase the mean )\n",
    "    c. Mode : Shows the most repeating observation. Not very relevant if value is more like continuous value rather than discrete\n",
    "\n",
    "#### 2. Measure of Dispersion : Capture spread out or dispersion of data \n",
    "    a. Range: higher range implies greater spread in the data\n",
    "    b. Inter Quartile range (IQR): IQR is Q3 - Q1. Total of 4 quarters represinting 25, 50, 75 and 100 % of data. 50 % is median\n",
    "    c. Box and Whisker plot. ( It's like IQR and also contain mean represented by dot )\n",
    "    d. Variance and Standard deviation (Sample STD and Population STD), STD rule of thumb [Mean +- 1 STD: 68% data ||  Mean +- 2 STD: 95% data], \n",
    "    e. Chebyshev’s Theorem : At least (1 - 1/k**2) of data lie within ± k standard deviations from the mean regardless of shape of the distribution.\n",
    "\n",
    "    \n",
    " \n",
    "##### NOTE: \n",
    "    2.d. Rule of thumb is based on assumption that data is bell shaped or Normal distribution  \n",
    "    2.e Chebyshev’s theorem says that at least 75% of all values are within ± 2 standard deviations from the mean regardless of the shape of the distribution.\n",
    "    "
   ]
  },
  {
   "cell_type": "markdown",
   "id": "854ab28b-dadd-4a31-bd0c-43e68dc2004b",
   "metadata": {},
   "source": [
    "### Multiple Variable\n",
    "-----------------------------------------\n"
   ]
  },
  {
   "cell_type": "markdown",
   "id": "0ffda75c-24ba-4acc-8040-6fa97b92df42",
   "metadata": {},
   "source": [
    "#### 1. Measure of Association among two variables : How two variables vary with each other \n",
    "    a. Covariance : Affected by change in units of variables , Range(-inf, inf)\n",
    "    b. Correlation : Not affected by change in units, Range(-1, 1)\n",
    "    "
   ]
  },
  {
   "cell_type": "code",
   "execution_count": null,
   "id": "c29da316-a5f1-43a2-a722-da72dd53d827",
   "metadata": {},
   "outputs": [],
   "source": []
  }
 ],
 "metadata": {
  "kernelspec": {
   "display_name": "Python 3 (ipykernel)",
   "language": "python",
   "name": "python3"
  },
  "language_info": {
   "codemirror_mode": {
    "name": "ipython",
    "version": 3
   },
   "file_extension": ".py",
   "mimetype": "text/x-python",
   "name": "python",
   "nbconvert_exporter": "python",
   "pygments_lexer": "ipython3",
   "version": "3.7.11"
  }
 },
 "nbformat": 4,
 "nbformat_minor": 5
}
