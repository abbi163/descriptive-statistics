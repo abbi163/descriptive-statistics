{
 "cells": [
  {
   "cell_type": "code",
   "execution_count": null,
   "metadata": {},
   "outputs": [],
   "source": []
  },
  {
   "cell_type": "code",
   "execution_count": null,
   "metadata": {},
   "outputs": [],
   "source": []
  },
  {
   "cell_type": "markdown",
   "metadata": {},
   "source": [
    "## Statistical Distribution !!\n",
    "---------------\n",
    "#### Discrete Distribution : When dataset is discrete\n",
    "\n",
    "#### Continuous Distribution : When dataset is continuous\n",
    "\n",
    "    eg. Normal or Bell Distribution\n",
    "        T-Distribution\n",
    "    \n",
    "    NOTE: For business application, it's common to assume discrete data as continuous and use continuous distribution graph for it !!\n",
    "\n",
    "#### Examples of distribution\n",
    "    1. Beta\n",
    "    2. Binomial\n",
    "    3. Gamma\n",
    "    4. Poisson\n",
    "    5. Normal or Bell Curve { mean : Location, std : Spread } : Standard Notation { X ~ Normal(mean(X), std(X)) }\n",
    "    6. T-Distribution\n",
    "\n",
    "\n"
   ]
  },
  {
   "cell_type": "markdown",
   "metadata": {},
   "source": [
    "### Probablity Distribution Function (PDF) for Continuous variable and Probablity Mass Function (PMF) for Discrete variable \n",
    "    Rule to assign probablities to various possible values that a random variables takes when it is being approximated by a particular statistical distribution\n",
    "\n",
    "\n",
    "NOTE: \n",
    "\n",
    "    If variable is continuous we will look for probablity for a particular range (Area under the curve):\n",
    "    eg. Probablity of getting a height less than 5 ft. \n",
    "    ** Probablity of height exactly equal to 5 ft. is zero as area under the curve for a line is 0 that's why we always go for range probablity when comes to continuous variable \n",
    "\n",
    "    If variable is discrete, we can get probablity of a range as well as a particular value \n",
    "    eg. Probablity of exactly 4 customer coming to checkout counter. Probablity of upto 4 customer coming to checkout counter \n"
   ]
  },
  {
   "cell_type": "code",
   "execution_count": null,
   "metadata": {},
   "outputs": [],
   "source": []
  }
 ],
 "metadata": {
  "kernelspec": {
   "display_name": "Python 3",
   "language": "python",
   "name": "python3"
  },
  "language_info": {
   "codemirror_mode": {
    "name": "ipython",
    "version": 3
   },
   "file_extension": ".py",
   "mimetype": "text/x-python",
   "name": "python",
   "nbconvert_exporter": "python",
   "pygments_lexer": "ipython3",
   "version": "3.8.5"
  }
 },
 "nbformat": 4,
 "nbformat_minor": 4
}
